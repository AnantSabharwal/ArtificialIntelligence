{
  "nbformat": 4,
  "nbformat_minor": 0,
  "metadata": {
    "colab": {
      "provenance": []
    },
    "kernelspec": {
      "name": "python3",
      "display_name": "Python 3"
    },
    "language_info": {
      "name": "python"
    }
  },
  "cells": [
    {
      "cell_type": "markdown",
      "source": [
        "Write a python program to define and implement a tic—tac-toe game with one human player. \n",
        "\n",
        "Solve the game using the built in algorithms and compare the solutions.\n",
        "\n",
        "a. Iterative deepening\n",
        "\n",
        "b. Depth first search"
      ],
      "metadata": {
        "id": "gUcqs5I-QoiI"
      }
    },
    {
      "cell_type": "code",
      "execution_count": null,
      "metadata": {
        "colab": {
          "base_uri": "https://localhost:8080/"
        },
        "id": "IItfjf_vMYxU",
        "outputId": "440e2177-222f-4ef2-a00f-297ba1c0acaf"
      },
      "outputs": [
        {
          "output_type": "stream",
          "name": "stdout",
          "text": [
            "Looking in indexes: https://pypi.org/simple, https://us-python.pkg.dev/colab-wheels/public/simple/\n",
            "Collecting easyAI\n",
            "  Downloading easyAI-2.0.12-py3-none-any.whl (42 kB)\n",
            "\u001b[2K     \u001b[90m━━━━━━━━━━━━━━━━━━━━━━━━━━━━━━━━━━━━━━━━\u001b[0m \u001b[32m42.2/42.2 KB\u001b[0m \u001b[31m1.7 MB/s\u001b[0m eta \u001b[36m0:00:00\u001b[0m\n",
            "\u001b[?25hRequirement already satisfied: numpy in /usr/local/lib/python3.8/dist-packages (from easyAI) (1.22.4)\n",
            "Installing collected packages: easyAI\n",
            "Successfully installed easyAI-2.0.12\n"
          ]
        }
      ],
      "source": [
        "!pip install easyAI"
      ]
    },
    {
      "cell_type": "code",
      "source": [
        "#importing basic libraries\n",
        "import numpy as np\n",
        "\n",
        "from easyAI import TwoPlayerGame, Human_Player, AI_Player, Negamax"
      ],
      "metadata": {
        "id": "P86CP3KtQuVP"
      },
      "execution_count": null,
      "outputs": []
    },
    {
      "cell_type": "code",
      "source": [
        "class TicTacToeGame(TwoPlayerGame):\n",
        "  \"\"\" Board positions are numbered as follows:\n",
        "  1 2 3\n",
        "  4 5 6\n",
        "  7 8 9\n",
        "  \"\"\"\n",
        "\n",
        "  def __init__(self,players):\n",
        "    self.players = players\n",
        "    self.board = [0 for i in range(9)]\n",
        "    self.current_player = 1\n",
        "\n",
        "  def possible_moves(self):\n",
        "    return [i+1 for i, e in enumerate(self.board) if e == 0]\n",
        "\n",
        "  def make_move(self, move):\n",
        "    self.board[int(move)-1] = self.current_player\n",
        "\n",
        "  def lose(self):\n",
        "    \"\"\" The opponent gets 3 in a line \"\"\"\n",
        "    return any(\n",
        "        [\n",
        "             all([(self.board[c - 1] == self.opponent_index) for c in line])\n",
        "                for line in [\n",
        "                    [1, 2, 3],\n",
        "                    [4, 5, 6],\n",
        "                    [7, 8, 9],  # horiz.\n",
        "                    [1, 4, 7],\n",
        "                    [2, 5, 8],\n",
        "                    [3, 6, 9],  # vertical\n",
        "                    [1, 5, 9],\n",
        "                    [3, 5, 7],\n",
        "                ]\n",
        "        ]\n",
        "    )\n",
        "\n",
        "  def is_over(self):\n",
        "    return (self.possible_moves()==[]) or self.lose()\n",
        "\n",
        "  def show(self):\n",
        "    print(\n",
        "          \"\\n\"\n",
        "          + \"\\n\".join(\n",
        "              [\n",
        "                  \" \".join([[\".\", \"O\", \"X\"][self.board[3 * j + i]] for i in range(3)])\n",
        "                  for j in range(3)\n",
        "              ]\n",
        "          )\n",
        "      )\n",
        "    \n",
        "  def scoring(self):\n",
        "      return -100 if self.lose() else 0\n"
      ],
      "metadata": {
        "id": "tRzHAMiaUPvb"
      },
      "execution_count": null,
      "outputs": []
    },
    {
      "cell_type": "code",
      "source": [
        "ai = Negamax(1) # The AI will think 9 moves in advance\n",
        "game = TicTacToeGame( [ Human_Player(), AI_Player(ai) ] )\n",
        "history = game.play()"
      ],
      "metadata": {
        "colab": {
          "base_uri": "https://localhost:8080/"
        },
        "id": "ULXnI1eIXGLL",
        "outputId": "6d490c65-74c7-4163-e168-321a12ba8800"
      },
      "execution_count": null,
      "outputs": [
        {
          "output_type": "stream",
          "name": "stdout",
          "text": [
            "\n",
            ". . .\n",
            ". . .\n",
            ". . .\n",
            "\n",
            "Player 1 what do you play ? 4\n",
            "\n",
            "Move #1: player 1 plays 4 :\n",
            "\n",
            ". . .\n",
            "O . .\n",
            ". . .\n",
            "\n",
            "Move #2: player 2 plays 1 :\n",
            "\n",
            "X . .\n",
            "O . .\n",
            ". . .\n",
            "\n",
            "Player 1 what do you play ? 3\n",
            "\n",
            "Move #3: player 1 plays 3 :\n",
            "\n",
            "X . O\n",
            "O . .\n",
            ". . .\n",
            "\n",
            "Move #4: player 2 plays 2 :\n",
            "\n",
            "X X O\n",
            "O . .\n",
            ". . .\n",
            "\n",
            "Player 1 what do you play ? 9\n",
            "\n",
            "Move #5: player 1 plays 9 :\n",
            "\n",
            "X X O\n",
            "O . .\n",
            ". . O\n",
            "\n",
            "Move #6: player 2 plays 5 :\n",
            "\n",
            "X X O\n",
            "O X .\n",
            ". . O\n",
            "\n",
            "Player 1 what do you play ? 6\n",
            "\n",
            "Move #7: player 1 plays 6 :\n",
            "\n",
            "X X O\n",
            "O X O\n",
            ". . O\n"
          ]
        }
      ]
    },
    {
      "cell_type": "markdown",
      "source": [
        "Solve the game"
      ],
      "metadata": {
        "id": "OeSsdnZsapcZ"
      }
    },
    {
      "cell_type": "markdown",
      "source": [
        "iterative"
      ],
      "metadata": {
        "id": "ySHJNppTxBgu"
      }
    },
    {
      "cell_type": "code",
      "source": [
        "from easyAI import solve_with_iterative_deepening\n",
        "r,d,m = solve_with_iterative_deepening(\n",
        "    game=TicTacToeGame([Human_Player()]),\n",
        "    ai_depths=range(1,10),\n",
        "    win_score=100\n",
        ")"
      ],
      "metadata": {
        "colab": {
          "base_uri": "https://localhost:8080/"
        },
        "id": "oobvIIyoXfhC",
        "outputId": "f03f9a23-7d6a-46c4-bda3-33899c13ed9c"
      },
      "execution_count": null,
      "outputs": [
        {
          "output_type": "stream",
          "name": "stdout",
          "text": [
            "d:1, a:0, m:1\n",
            "d:2, a:0, m:1\n",
            "d:3, a:0, m:1\n",
            "d:4, a:0, m:1\n",
            "d:5, a:0, m:1\n",
            "d:6, a:0, m:1\n",
            "d:7, a:0, m:1\n",
            "d:8, a:0, m:1\n",
            "d:9, a:0, m:1\n"
          ]
        }
      ]
    },
    {
      "cell_type": "markdown",
      "source": [
        "- The 0 implies that the result of the game is a draw.\n",
        "- 9 is the minimum number of moves before victory or defeat.\n",
        "- 1 is the first move for player one."
      ],
      "metadata": {
        "id": "gYQnNphEzE5U"
      }
    },
    {
      "cell_type": "markdown",
      "source": [
        "depth-first"
      ],
      "metadata": {
        "id": "Z30xBr8exDXi"
      }
    },
    {
      "cell_type": "code",
      "source": [
        "from easyAI import solve_with_depth_first_search\n",
        "u = solve_with_depth_first_search(\n",
        "    game=TicTacToeGame([Human_Player()]),\n",
        "    #ai_depths=range(2,9),\n",
        "    win_score=100\n",
        ")"
      ],
      "metadata": {
        "id": "lxehgEoNbXto"
      },
      "execution_count": null,
      "outputs": []
    },
    {
      "cell_type": "code",
      "source": [
        "print(u)"
      ],
      "metadata": {
        "colab": {
          "base_uri": "https://localhost:8080/"
        },
        "id": "_jVo7jGycwpS",
        "outputId": "73a0439c-1a3b-4b4e-c784-cc717cf6d373"
      },
      "execution_count": null,
      "outputs": [
        {
          "output_type": "stream",
          "name": "stdout",
          "text": [
            "0\n"
          ]
        }
      ]
    },
    {
      "cell_type": "markdown",
      "source": [
        "The Result of the DFS is also a draw"
      ],
      "metadata": {
        "id": "M87-_xdBzJ5e"
      }
    },
    {
      "cell_type": "code",
      "source": [],
      "metadata": {
        "id": "SKoul5WmfiF5"
      },
      "execution_count": null,
      "outputs": []
    }
  ]
}