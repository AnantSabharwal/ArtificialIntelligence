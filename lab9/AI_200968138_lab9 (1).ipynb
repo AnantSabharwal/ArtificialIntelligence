{
  "nbformat": 4,
  "nbformat_minor": 0,
  "metadata": {
    "colab": {
      "provenance": []
    },
    "kernelspec": {
      "name": "python3",
      "display_name": "Python 3"
    },
    "language_info": {
      "name": "python"
    }
  },
  "cells": [
    {
      "cell_type": "markdown",
      "source": [
        "- Anant Sabharwal\n",
        "- 200968138\n",
        "- WEEK 9"
      ],
      "metadata": {
        "id": "t_sYAf2P8DoX"
      }
    },
    {
      "cell_type": "code",
      "execution_count": 4,
      "metadata": {
        "id": "V7HMGWbGpXXa"
      },
      "outputs": [],
      "source": [
        "import numpy as np\n",
        "import gym"
      ]
    },
    {
      "cell_type": "code",
      "source": [
        "def monte_carlo_es(env, num_episodes, epsilon, gamma):\n",
        "    # Initialize empty dictionary for storing state-action values\n",
        "    Q = {}\n",
        "    for state in range(env.observation_space.n):\n",
        "        for action in range(env.action_space.n):\n",
        "            Q[(state, action)] = 0.0\n",
        "    \n",
        "    # Initialize empty dictionary for storing state-action counts\n",
        "    N = {}\n",
        "    for state in range(env.observation_space.n):\n",
        "        for action in range(env.action_space.n):\n",
        "            N[(state, action)] = 0\n",
        "    \n",
        "    # Define helper function to generate epsilon-greedy policy\n",
        "    def generate_epsilon_greedy_policy():\n",
        "        def policy(state):\n",
        "            if np.random.uniform(0, 1) < epsilon:\n",
        "                return env.action_space.sample()\n",
        "            else:\n",
        "                q_values = np.array([Q[(state, a)] for a in range(env.action_space.n)])\n",
        "                return np.random.choice(np.where(q_values == q_values.max())[0])\n",
        "        return policy\n",
        "    \n",
        "    # Loop over episodes\n",
        "    for episode in range(num_episodes):\n",
        "        # Initialize episode\n",
        "        state = env.reset()\n",
        "        done = False\n",
        "        policy = generate_epsilon_greedy_policy()\n",
        "        episode_data = []\n",
        "        \n",
        "        # Generate episode\n",
        "        while not done:\n",
        "            action = policy(state)\n",
        "            next_state, reward, done, _ = env.step(action)\n",
        "            episode_data.append((state, action, reward))\n",
        "            state = next_state\n",
        "        \n",
        "        # Update Q using Monte Carlo first-visit policy evaluation\n",
        "        G = 0\n",
        "        for t in range(len(episode_data) - 1, -1, -1):\n",
        "            state, action, reward = episode_data[t]\n",
        "            G = gamma * G + reward\n",
        "            if (state, action) not in [(x[0], x[1]) for x in episode_data[:t]]:\n",
        "                N[(state, action)] += 1\n",
        "                alpha = 1 / N[(state, action)]\n",
        "                Q[(state, action)] += alpha * (G - Q[(state, action)])\n",
        "        \n",
        "    # Generate final policy\n",
        "    policy = {}\n",
        "    for state in range(env.observation_space.n):\n",
        "        q_values = np.array([Q[(state, a)] for a in range(env.action_space.n)])\n",
        "        policy[state] = np.random.choice(np.where(q_values == q_values.max())[0])\n",
        "    \n",
        "    return Q, policy"
      ],
      "metadata": {
        "id": "VU1jq6kwqU9T"
      },
      "execution_count": 5,
      "outputs": []
    },
    {
      "cell_type": "code",
      "source": [
        "def on_policy_mc_control(env, num_episodes, epsilon, gamma):\n",
        "    # Initialize empty dictionary for storing state-action values\n",
        "    Q = {}\n",
        "    for state in range(env.observation_space.n):\n",
        "        for action in range(env.action_space.n):\n",
        "            Q[(state, action)] = 0.0\n",
        "    \n",
        "    # Initialize empty dictionary for storing state-action counts\n",
        "    N = {}\n",
        "    for state in range(env.observation_space.n):\n",
        "        for action in range(env.action_space.n):\n",
        "            N[(state, action)] = 0\n",
        "    \n",
        "    # Define helper function to generate epsilon-soft policy\n",
        "    def generate_epsilon_soft_policy():\n",
        "        def policy(state):\n",
        "            probs = np.ones(env.action_space.n, dtype=float) * epsilon / env.action_space.n\n",
        "            q_values = np.array([Q[(state, a)] for a in range(env.action_space.n)])\n",
        "            best_action = np.random.choice(np.where(q_values == q_values.max())[0])\n",
        "            probs[best_action] += (1.0 - epsilon)\n",
        "            return np.random.choice(env.action_space.n, p=probs)\n",
        "        return policy\n",
        "    \n",
        "    # Loop over episodes\n",
        "    for episode in range(num_episodes):\n",
        "        # Initialize episode\n",
        "      \n",
        "        # Initialize episode\n",
        "        state = env.reset()\n",
        "        done = False\n",
        "        policy = generate_epsilon_soft_policy()\n",
        "        episode_data = []\n",
        "        \n",
        "        # Generate episode\n",
        "        while not done:\n",
        "            action = policy(state)\n",
        "            next_state, reward, done, _ = env.step(action)\n",
        "            episode_data.append((state, action, reward))\n",
        "            state = next_state\n",
        "        \n",
        "        # Update Q using Monte Carlo on-policy first-visit control\n",
        "        G = 0\n",
        "        W = 1\n",
        "        for t in range(len(episode_data) - 1, -1, -1):\n",
        "            state, action, reward = episode_data[t]\n",
        "            G = gamma * G + reward\n",
        "            N[(state, action)] += W\n",
        "            alpha = W / N[(state, action)]\n",
        "            Q[(state, action)] += alpha * (G - Q[(state, action)])\n",
        "            if action != np.argmax([Q[(state, a)] for a in range(env.action_space.n)]):\n",
        "                break\n",
        "            W = W / (1 - epsilon + epsilon / env.action_space.n)\n",
        "        \n",
        "    # Generate final policy\n",
        "    policy = {}\n",
        "    for state in range(env.observation_space.n):\n",
        "        q_values = np.array([Q[(state, a)] for a in range(env.action_space.n)])\n",
        "        policy[state] = np.argmax(q_values)\n",
        "    \n",
        "    return Q, policy"
      ],
      "metadata": {
        "id": "YK-8yxpVqZv6"
      },
      "execution_count": 6,
      "outputs": []
    },
    {
      "cell_type": "code",
      "source": [
        "env = gym.make('CliffWalking-v0')"
      ],
      "metadata": {
        "colab": {
          "base_uri": "https://localhost:8080/"
        },
        "id": "JBbl42w2qedR",
        "outputId": "6bba6c18-014b-407f-b007-81d5a9b7468e"
      },
      "execution_count": 7,
      "outputs": [
        {
          "output_type": "stream",
          "name": "stderr",
          "text": [
            "/usr/local/lib/python3.10/dist-packages/gym/core.py:317: DeprecationWarning: \u001b[33mWARN: Initializing wrapper in old step API which returns one bool instead of two. It is recommended to set `new_step_api=True` to use new step API. This will be the default behaviour in future.\u001b[0m\n",
            "  deprecation(\n",
            "/usr/local/lib/python3.10/dist-packages/gym/wrappers/step_api_compatibility.py:39: DeprecationWarning: \u001b[33mWARN: Initializing environment in old step API which returns one bool instead of two. It is recommended to set `new_step_api=True` to use new step API. This will be the default behaviour in future.\u001b[0m\n",
            "  deprecation(\n"
          ]
        }
      ]
    },
    {
      "cell_type": "code",
      "source": [
        "actions = env.action_space.n"
      ],
      "metadata": {
        "id": "Xs8FUIqJsQwk"
      },
      "execution_count": 8,
      "outputs": []
    },
    {
      "cell_type": "code",
      "source": [
        "# Monte Carlo ES\n",
        "Q_mc_es, policy_mc_es = monte_carlo_es(env, num_episodes=500, epsilon=1.0, gamma=1.0)\n",
        "print('Monte Carlo ES')\n",
        "print('Number of episodes:', 500)\n",
        "print('Number of steps:', np.sum(list(Q_mc_es.values())))\n",
        "print('Optimal policy:')\n",
        "#print(np.array([env.actions[policy_mc_es[s]] for s in range(env.observation_space.n)]).reshape(env.shape))\n"
      ],
      "metadata": {
        "colab": {
          "base_uri": "https://localhost:8080/"
        },
        "id": "OaKye7piqicB",
        "outputId": "c586df24-415d-4ab0-fe85-fbfb987cb0bd"
      },
      "execution_count": 9,
      "outputs": [
        {
          "output_type": "stream",
          "name": "stdout",
          "text": [
            "Monte Carlo ES\n",
            "Number of episodes: 500\n",
            "Number of steps: -9186148.707159456\n",
            "Optimal policy:\n"
          ]
        }
      ]
    },
    {
      "cell_type": "code",
      "source": [
        " # On-policy first-visit MC control\n",
        "Q_on_policy_mc, policy_on_policy_mc = on_policy_mc_control(env, num_episodes=500, epsilon=0.1, gamma=1.0)\n",
        "print('On-policy first-visit MC control')\n",
        "print('Number of episodes:', 500)\n",
        "print('Number of steps:', np.sum(list(Q_on_policy_mc.values())))\n",
        "print('Optimal policy:')\n",
        "#print(np.array([env.actions[policy_on_policy_mc[s]] for s in range(env.observation_space.n)]).reshape(env.shape))\n"
      ],
      "metadata": {
        "colab": {
          "base_uri": "https://localhost:8080/"
        },
        "id": "2rUUa9cDqqEy",
        "outputId": "f118ab7d-c163-4597-f15d-495e2e11d55c"
      },
      "execution_count": 10,
      "outputs": [
        {
          "output_type": "stream",
          "name": "stdout",
          "text": [
            "On-policy first-visit MC control\n",
            "Number of episodes: 500\n",
            "Number of steps: -1.0\n",
            "Optimal policy:\n"
          ]
        }
      ]
    },
    {
      "cell_type": "code",
      "source": [],
      "metadata": {
        "id": "DTQ9ZaZr1565"
      },
      "execution_count": null,
      "outputs": []
    }
  ]
}