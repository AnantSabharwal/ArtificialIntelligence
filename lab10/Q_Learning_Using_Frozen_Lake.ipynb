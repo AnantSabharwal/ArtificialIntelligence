{
  "nbformat": 4,
  "nbformat_minor": 0,
  "metadata": {
    "colab": {
      "provenance": []
    },
    "kernelspec": {
      "name": "python3",
      "display_name": "Python 3"
    },
    "language_info": {
      "name": "python"
    }
  },
  "cells": [
    {
      "cell_type": "code",
      "execution_count": 1,
      "metadata": {
        "id": "fQ1ivmBCjTxl"
      },
      "outputs": [],
      "source": [
        "#importing necessary libraries\n",
        "import pandas as pd\n",
        "import numpy as np\n",
        "import gym\n",
        "import random\n",
        "import time\n",
        "from IPython.display import clear_output"
      ]
    },
    {
      "cell_type": "code",
      "source": [
        "env = gym.make(\"FrozenLake-v1\")"
      ],
      "metadata": {
        "colab": {
          "base_uri": "https://localhost:8080/"
        },
        "id": "OQGrbwqVjr1V",
        "outputId": "71ed5684-d1c7-4c3b-f72c-b54b1306194b"
      },
      "execution_count": 3,
      "outputs": [
        {
          "output_type": "stream",
          "name": "stderr",
          "text": [
            "/usr/local/lib/python3.10/dist-packages/gym/core.py:317: DeprecationWarning: \u001b[33mWARN: Initializing wrapper in old step API which returns one bool instead of two. It is recommended to set `new_step_api=True` to use new step API. This will be the default behaviour in future.\u001b[0m\n",
            "  deprecation(\n",
            "/usr/local/lib/python3.10/dist-packages/gym/wrappers/step_api_compatibility.py:39: DeprecationWarning: \u001b[33mWARN: Initializing environment in old step API which returns one bool instead of two. It is recommended to set `new_step_api=True` to use new step API. This will be the default behaviour in future.\u001b[0m\n",
            "  deprecation(\n"
          ]
        }
      ]
    },
    {
      "cell_type": "code",
      "source": [
        "action_space_size = env.action_space.n\n",
        "state_space_size = env.observation_space.n\n",
        "\n",
        "q_table = np.zeros((state_space_size,action_space_size))\n",
        "print(q_table)"
      ],
      "metadata": {
        "colab": {
          "base_uri": "https://localhost:8080/"
        },
        "id": "zmf5NgdGjzyg",
        "outputId": "f91679a5-b60c-4c42-a8a9-aa5631267f39"
      },
      "execution_count": 4,
      "outputs": [
        {
          "output_type": "stream",
          "name": "stdout",
          "text": [
            "[[0. 0. 0. 0.]\n",
            " [0. 0. 0. 0.]\n",
            " [0. 0. 0. 0.]\n",
            " [0. 0. 0. 0.]\n",
            " [0. 0. 0. 0.]\n",
            " [0. 0. 0. 0.]\n",
            " [0. 0. 0. 0.]\n",
            " [0. 0. 0. 0.]\n",
            " [0. 0. 0. 0.]\n",
            " [0. 0. 0. 0.]\n",
            " [0. 0. 0. 0.]\n",
            " [0. 0. 0. 0.]\n",
            " [0. 0. 0. 0.]\n",
            " [0. 0. 0. 0.]\n",
            " [0. 0. 0. 0.]\n",
            " [0. 0. 0. 0.]]\n"
          ]
        },
        {
          "output_type": "stream",
          "name": "stderr",
          "text": [
            "/usr/local/lib/python3.10/dist-packages/ipykernel/ipkernel.py:283: DeprecationWarning: `should_run_async` will not call `transform_cell` automatically in the future. Please pass the result to `transformed_cell` argument and any exception that happen during thetransform in `preprocessing_exc_tuple` in IPython 7.17 and above.\n",
            "  and should_run_async(code)\n"
          ]
        }
      ]
    },
    {
      "cell_type": "code",
      "source": [
        "num_episodes = 10000\n",
        "max_steps_per_episode = 100\n",
        "\n",
        "learning_rate = 0.1\n",
        "discount_rate = 0.99\n",
        "\n",
        "exploration_rate = 1\n",
        "max_exploration_rate = 1\n",
        "min_exploration_rate = 0.01\n",
        "exploration_decay_rate = 0.001"
      ],
      "metadata": {
        "colab": {
          "base_uri": "https://localhost:8080/"
        },
        "id": "zJqRU8MNkjK5",
        "outputId": "b4231a4a-c19e-45a8-84f3-99c5af3aa200"
      },
      "execution_count": 9,
      "outputs": [
        {
          "output_type": "stream",
          "name": "stderr",
          "text": [
            "/usr/local/lib/python3.10/dist-packages/ipykernel/ipkernel.py:283: DeprecationWarning: `should_run_async` will not call `transform_cell` automatically in the future. Please pass the result to `transformed_cell` argument and any exception that happen during thetransform in `preprocessing_exc_tuple` in IPython 7.17 and above.\n",
            "  and should_run_async(code)\n"
          ]
        }
      ]
    },
    {
      "cell_type": "code",
      "source": [
        "rewards_all_episodes = []"
      ],
      "metadata": {
        "id": "TBVyEbeUpCtV"
      },
      "execution_count": 10,
      "outputs": []
    },
    {
      "cell_type": "code",
      "source": [
        "#Q-learning algorithm\n",
        "for episodes in range(num_episodes):\n",
        "  state = env.reset()\n",
        "\n",
        "  done = False\n",
        "  rewards_current_episode = 0 \n",
        "\n",
        "  for step in range(max_steps_per_episode):\n",
        "\n",
        "    #exploration-exploitation trade-off\n",
        "    exploration_rate_threshold = random.uniform(0,1)\n",
        "    if exploration_rate_threshold > exploration_rate:\n",
        "      action = np.argmax(q_table[state,:])\n",
        "    else:\n",
        "      action = env.action_space.sample()\n",
        "    \n",
        "    new_state, reward, done, info = env.step(action)\n",
        "\n",
        "    #updating the Q-table\n",
        "    q_table[state,action] = q_table[state,action]*(1-learning_rate) + learning_rate*(reward + discount_rate*np.max(q_table[new_state,:]))\n",
        "\n",
        "    state = new_state\n",
        "    rewards_current_episode += reward\n",
        "\n",
        "    if done == True:\n",
        "      break\n",
        "\n",
        "  #exploration-rate-decay\n",
        "  exploration_rate = min_exploration_rate + (max_exploration_rate - min_exploration_rate) * np.exp(-exploration_decay_rate*episodes)\n",
        "\n",
        "  rewards_all_episodes.append(rewards_current_episode)\n",
        "\n",
        "#calculate and print the average reward per 1000 episodes\n",
        "rewards_per_thousand_episodes = np.split(np.array(rewards_all_episodes),num_episodes/1000)\n",
        "count = 1000\n",
        "print(\"*********Average Reward Per 1000 episodes***********\")\n",
        "for r in rewards_per_thousand_episodes:\n",
        "  print(count,\": \",str(sum(r/1000)))\n",
        "  count += 1000\n",
        "\n",
        "#printing the Q-table\n",
        "print(\"\\n\\************Q-table************\")\n",
        "print(q_table)"
      ],
      "metadata": {
        "colab": {
          "base_uri": "https://localhost:8080/"
        },
        "id": "WGOsTMTnlJfJ",
        "outputId": "f43c4093-95c9-404e-dec1-a0aa1243cdca"
      },
      "execution_count": 11,
      "outputs": [
        {
          "output_type": "stream",
          "name": "stderr",
          "text": [
            "<>:42: DeprecationWarning: invalid escape sequence '\\*'\n"
          ]
        },
        {
          "output_type": "stream",
          "name": "stdout",
          "text": [
            "*********Average Reward Per 1000 episodes***********\n",
            "1000 :  0.05000000000000004\n",
            "2000 :  0.21200000000000016\n",
            "3000 :  0.4130000000000003\n",
            "4000 :  0.5720000000000004\n",
            "5000 :  0.6180000000000004\n",
            "6000 :  0.6490000000000005\n",
            "7000 :  0.6680000000000005\n",
            "8000 :  0.6980000000000005\n",
            "9000 :  0.6640000000000005\n",
            "10000 :  0.6860000000000005\n",
            "\n",
            "\\************Q-table************\n",
            "[[0.55469163 0.50827717 0.49842194 0.50853143]\n",
            " [0.35120819 0.29639506 0.34553113 0.50910433]\n",
            " [0.43038917 0.38604474 0.41536857 0.46905262]\n",
            " [0.26418569 0.30082694 0.22037475 0.43657961]\n",
            " [0.56804102 0.34259636 0.23915315 0.46060297]\n",
            " [0.         0.         0.         0.        ]\n",
            " [0.35575986 0.08729044 0.21731094 0.12130153]\n",
            " [0.         0.         0.         0.        ]\n",
            " [0.38959657 0.38404244 0.35352849 0.59898466]\n",
            " [0.48863941 0.64328416 0.3705454  0.45829787]\n",
            " [0.67183466 0.39461989 0.36819177 0.31284579]\n",
            " [0.         0.         0.         0.        ]\n",
            " [0.         0.         0.         0.        ]\n",
            " [0.41630219 0.56632484 0.77876144 0.60965737]\n",
            " [0.73325618 0.87233275 0.73112025 0.70530903]\n",
            " [0.         0.         0.         0.        ]]\n"
          ]
        }
      ]
    },
    {
      "cell_type": "code",
      "source": [],
      "metadata": {
        "id": "lP6VKfRWo3aq"
      },
      "execution_count": null,
      "outputs": []
    }
  ]
}