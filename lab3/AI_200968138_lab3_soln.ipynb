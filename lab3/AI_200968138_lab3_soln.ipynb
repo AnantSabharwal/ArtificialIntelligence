{
  "nbformat": 4,
  "nbformat_minor": 0,
  "metadata": {
    "colab": {
      "provenance": []
    },
    "kernelspec": {
      "name": "python3",
      "display_name": "Python 3"
    },
    "language_info": {
      "name": "python"
    }
  },
  "cells": [
    {
      "cell_type": "markdown",
      "source": [
        "Anant Sabharwal\n",
        "\n",
        "200968138\n"
      ],
      "metadata": {
        "id": "8j71s8ryAU_U"
      }
    },
    {
      "cell_type": "code",
      "source": [
        "#connecting to google drive\n",
        "from google.colab import drive\n",
        "drive.mount('/content/drive')"
      ],
      "metadata": {
        "colab": {
          "base_uri": "https://localhost:8080/"
        },
        "id": "1I6n93K_J05R",
        "outputId": "84e0580b-74f2-419a-f269-b90f95671a34"
      },
      "execution_count": 1,
      "outputs": [
        {
          "output_type": "stream",
          "name": "stdout",
          "text": [
            "Drive already mounted at /content/drive; to attempt to forcibly remount, call drive.mount(\"/content/drive\", force_remount=True).\n"
          ]
        }
      ]
    },
    {
      "cell_type": "markdown",
      "source": [
        "The code for dfs and bfs traversal has been appended to degrees.py as there was space to write the code.\n",
        "\n",
        "The file degrees.py has also been appended\n",
        "\n",
        "- The function for bfs traversal is called : shortest_path_bfs\n",
        "\n",
        "- The function for dfs traversal is called : shortest_path_dfs\n",
        "\n",
        "- Both of these functions take in parameters source and taget and find the shortest path in both manners"
      ],
      "metadata": {
        "id": "HP-fd_UL-EV9"
      }
    },
    {
      "cell_type": "code",
      "execution_count": 1,
      "metadata": {
        "id": "2ZaoOrdFFcRH"
      },
      "outputs": [],
      "source": [
        "#importing basic libraries\n",
        "import pandas as pd\n",
        "import numpy as np\n",
        "import os\n",
        "import sys\n",
        "sys.path.append('/content/drive/MyDrive/degrees/degrees')\n",
        "from degrees import *\n",
        "from util import *"
      ]
    },
    {
      "cell_type": "code",
      "source": [
        "!python3 /content/drive/MyDrive/degrees/degrees/degrees.py '/content/drive/MyDrive/degrees/degrees/small'"
      ],
      "metadata": {
        "colab": {
          "base_uri": "https://localhost:8080/"
        },
        "id": "jfjWqPAFOP2K",
        "outputId": "b4d51cbc-9a26-49c4-a667-543f54070fd3"
      },
      "execution_count": 2,
      "outputs": [
        {
          "output_type": "stream",
          "name": "stdout",
          "text": [
            "Loading data...\n",
            "Data loaded.\n",
            "Name: tom cruise\n",
            "Name: tom hanks\n",
            "Actors explored to find solution:  0\n",
            "Nodes left to expand in Frontier:  1\n",
            "Solution Found!\n",
            "7 actors explored to find solution!\n",
            "\n",
            "BFS Shortest Path\n",
            "\n",
            "2 degrees of separation.\n",
            "1: Tom Cruise and Kevin Bacon starred in A Few Good Men\n",
            "2: Kevin Bacon and Tom Hanks starred in Apollo 13\n",
            "\n",
            "DFS Shortest Path\n",
            "\n",
            "2 degrees of separation.\n",
            "1: Tom Cruise and Kevin Bacon starred in A Few Good Men\n",
            "2: Kevin Bacon and Tom Hanks starred in Apollo 13\n"
          ]
        }
      ]
    },
    {
      "cell_type": "markdown",
      "source": [
        "A similar experiment was also carried out on the 'large' dataset , We conclude that BFS searches faster as compared to DFS as in a DFS traversal it searches down the entire depth and then backtracks."
      ],
      "metadata": {
        "id": "sM6sbknu-4q7"
      }
    },
    {
      "cell_type": "code",
      "source": [
        "!python3 /content/drive/MyDrive/degrees/degrees/degrees.py '/content/drive/MyDrive/degrees/degrees/large'"
      ],
      "metadata": {
        "colab": {
          "base_uri": "https://localhost:8080/"
        },
        "id": "9YJfViDEOpER",
        "outputId": "c70c8859-0ce3-43ea-b9fb-3ff8511fba22"
      },
      "execution_count": 3,
      "outputs": [
        {
          "output_type": "stream",
          "name": "stdout",
          "text": [
            "Loading data...\n",
            "Data loaded.\n",
            "Name: tom holland\n",
            "Which 'tom holland'?\n",
            "ID: 276169, Name: Tom Holland, Birth: 1943\n",
            "ID: 4043618, Name: Tom Holland, Birth: 1996\n",
            "Intended Person ID: 4043618\n",
            "Name: kevin bacon\n",
            "Which 'kevin bacon'?\n",
            "ID: 102, Name: Kevin Bacon, Birth: 1958\n",
            "ID: 9323132, Name: Kevin Bacon, Birth: \n",
            "Intended Person ID: 102\n",
            "Actors explored to find solution:  0\n",
            "Nodes left to expand in Frontier:  1\n",
            "Solution Found!\n",
            "6 actors explored to find solution!\n",
            "\n",
            "BFS Shortest Path\n",
            "\n",
            "2 degrees of separation.\n",
            "1: Tom Holland and Michael Sheen starred in Dolittle\n",
            "2: Michael Sheen and Kevin Bacon starred in Frost/Nixon\n",
            "\n",
            "DFS Shortest Path\n",
            "\n",
            "102 degrees of separation.\n",
            "1: Tom Holland and Mads Mikkelsen starred in Chaos Walking\n",
            "2: Mads Mikkelsen and Rupert Friend starred in At Eternity's Gate\n",
            "3: Rupert Friend and Matt Ward starred in Lullaby for Pi\n",
            "4: Matt Ward and David Stuart starred in Sweet Amerika\n",
            "5: David Stuart and Robert L. Duncan starred in Helix\n",
            "6: Robert L. Duncan and Nathan Dashwood starred in They Came from the Attic\n",
            "7: Nathan Dashwood and Marlo Franson starred in From the Sky\n",
            "8: Marlo Franson and James Masters starred in Never Be Done: The Richard Glen Lett Story\n",
            "9: James Masters and Johnny Dark starred in Rip-Off\n",
            "10: Johnny Dark and Terence Knox starred in Deadly Renovations\n",
            "11: Terence Knox and David Warner starred in Tripwire\n",
            "12: David Warner and Honor Blackman starred in Age of Innocence\n",
            "13: Honor Blackman and Richard Widmark starred in To the Devil a Daughter\n",
            "14: Richard Widmark and Gene Wilder starred in Hanky Panky\n",
            "15: Gene Wilder and Roger Moore starred in Sunday Lovers\n",
            "16: Roger Moore and Talia Shire starred in Bed & Breakfast\n",
            "17: Talia Shire and John Belushi starred in Old Boyfriends\n",
            "18: John Belushi and Christopher Lloyd starred in Goin' South\n",
            "19: Christopher Lloyd and Amanda Righetti starred in The Chateau Meroux\n",
            "20: Amanda Righetti and Jared Padalecki starred in Friday the 13th\n",
            "21: Jared Padalecki and Lindy Booth starred in Cry Wolf\n",
            "22: Lindy Booth and Peter Bogdanovich starred in The Creatress\n",
            "23: Peter Bogdanovich and Billy Wilder starred in The Shoe Store\n",
            "24: Billy Wilder and Michel Ciment starred in Portrait of a '60% Perfect Man': Billy Wilder\n",
            "25: Michel Ciment and Christopher Chaplin starred in Il cinema ritrovato: istruzioni per l'uso\n",
            "26: Christopher Chaplin and Jean-Yves Gautier starred in La piste du télégraphe\n",
            "27: Jean-Yves Gautier and Marcello Mastroianni starred in Voyage to the Beginning of the World\n",
            "28: Marcello Mastroianni and Laura Morante starred in Le due vite di Mattia Pascal\n",
            "29: Laura Morante and Sabine Azéma starred in Private Fears in Public Places\n",
            "30: Sabine Azéma and Charlotte Gainsbourg starred in La bûche\n",
            "31: Charlotte Gainsbourg and Roland Bertin starred in Charlotte for Ever\n",
            "32: Roland Bertin and Delphine Seyrig starred in Diary of a Suicide\n",
            "33: Delphine Seyrig and Brigitte Roüan starred in Grain of Sand\n",
            "34: Brigitte Roüan and Patrick Chesnais starred in After Sex\n",
            "35: Patrick Chesnais and Yves Afonso starred in Je veux être actrice\n",
            "36: Yves Afonso and Dominique Paturel starred in La maffia du plaisir\n",
            "37: Dominique Paturel and Michel Elias starred in Les fabuleuses aventures du légendaire Baron de Munchausen\n",
            "38: Michel Elias and Michel Duchaussoy starred in Les trois mousquetaires\n",
            "39: Michel Duchaussoy and Sven-Bertil Taube starred in The Lion and the Virgin\n",
            "40: Sven-Bertil Taube and Eric Ericson starred in Störst av allt\n",
            "41: Eric Ericson and Björn Bengtsson starred in Heaven on Earth\n",
            "42: Björn Bengtsson and Jonas Malmsjö starred in Operation Ragnarok\n",
            "43: Jonas Malmsjö and Ivan Mathias Petersson starred in Ellinors bröllop\n",
            "44: Ivan Mathias Petersson and Kirill Ulyanov starred in Break Even\n",
            "45: Kirill Ulyanov and Ivan Kuzmin starred in Checkpoint\n",
            "46: Ivan Kuzmin and Valentina Ananina starred in Eto bylo u morya\n",
            "47: Valentina Ananina and Vadim Aleksandrov starred in Crazy\n",
            "48: Vadim Aleksandrov and Olga Bityukova starred in Veryu v radugu\n",
            "49: Olga Bityukova and Aleksandr Novikov starred in Lyublyu. Zhdu. Lena\n",
            "50: Aleksandr Novikov and Georgiy Yumatov starred in Aktsiya\n",
            "51: Georgiy Yumatov and Mariya Zubareva starred in Velikiy muravinyy put\n",
            "52: Mariya Zubareva and Dmitriy Kharatyan starred in Mordashka\n",
            "53: Dmitriy Kharatyan and Spartak Mishulin starred in Chastnyy detektiv, ili operatsiya 'Kooperatsiya'\n",
            "54: Spartak Mishulin and Igor Vasilev starred in Vystrel v grobu\n",
            "55: Igor Vasilev and Olgert Kroders starred in Zaveshchaniye professora Douelya\n",
            "56: Olgert Kroders and Juris Strenga starred in Opoznanie\n",
            "57: Juris Strenga and Mukhammad Ali starred in The Blessed Bukhara\n",
            "58: Mukhammad Ali and Georgi Darchiashvili starred in Rasstanemsya - poka khoroshie\n",
            "59: Georgi Darchiashvili and Dimple Kapadia starred in Vozvrashchenie bagdadskogo vora\n",
            "60: Dimple Kapadia and Aashif Sheikh starred in Haque\n",
            "61: Aashif Sheikh and Swapna starred in Swarg Jaisaa Ghar\n",
            "62: Swapna and Nandamuri Balakrishna starred in Katha Nayakudu\n",
            "63: Nandamuri Balakrishna and Nagma starred in Ashwamedham\n",
            "64: Nagma and Krishnamraju starred in Gang Master\n",
            "65: Krishnamraju and Urvashi starred in Antima Theerpu\n",
            "66: Urvashi and Jayabharati starred in Veena Meettiya Vilangukal\n",
            "67: Jayabharati and Joseph E.A. starred in Angakkuri\n",
            "68: Joseph E.A. and Aishwarya Devan starred in Simhasanam\n",
            "69: Aishwarya Devan and Honey Rose starred in Thank You\n",
            "70: Honey Rose and Dileep starred in Ring Master\n",
            "71: Dileep and Gajala starred in The Speed Track\n",
            "72: Gajala and Joy Badlani starred in Raam\n",
            "73: Joy Badlani and Lawrence Raghavendra starred in Motta Shiva Ketta Shiva\n",
            "74: Lawrence Raghavendra and Vtv Ganesh starred in Sivalinga\n",
            "75: Vtv Ganesh and Trisha Krishnan starred in Vinnaithaandi Varuvaayaa\n",
            "76: Trisha Krishnan and Saurabh Shukla starred in Mawali Ek Playboy\n",
            "77: Saurabh Shukla and Mahie Gill starred in Utt Pataang\n",
            "78: Mahie Gill and Pallavi Joshi starred in Buddha in a Traffic Jam\n",
            "79: Pallavi Joshi and Jagdeep starred in Insaaf Ki Awaaz\n",
            "80: Jagdeep and Ram Asra starred in Apradhi Kaun\n",
            "81: Ram Asra and Pramod Moutho starred in Insaaf Ki Jung\n",
            "82: Pramod Moutho and Monica Castelino starred in Kama Sundari\n",
            "83: Monica Castelino and Pratima Kazmi starred in Undertrial\n",
            "84: Pratima Kazmi and Samiksha Bhatnagar starred in Hey Ram Hamne Gandhi Ko maar Diya\n",
            "85: Samiksha Bhatnagar and Rishi Bhutani starred in Baal Ki Khaal\n",
            "86: Rishi Bhutani and Mahesh Thakur starred in Ram Ratan\n",
            "87: Mahesh Thakur and Puneet Singh Ratn starred in Satya 2\n",
            "88: Puneet Singh Ratn and Jacqueline Fernandez starred in Dancing Dad\n",
            "89: Jacqueline Fernandez and Sushant Singh Rajput starred in Drive\n",
            "90: Sushant Singh Rajput and Varun Sharma starred in Chhichhore\n",
            "91: Varun Sharma and Diljit Dosanjh starred in Arjun Patiala\n",
            "92: Diljit Dosanjh and Yashpal Sharma starred in Mukhtiar Chadha\n",
            "93: Yashpal Sharma and Rajesh Jais starred in brina\n",
            "94: Rajesh Jais and Arpit Chaudhary starred in Fastey Fasaatey\n",
            "95: Arpit Chaudhary and Krishna Chaturvedi starred in Songs of love\n",
            "96: Krishna Chaturvedi and Lisa Ray starred in Ishq Forever\n",
            "97: Lisa Ray and Gil Bellows starred in Kill Kill Faster Faster\n",
            "98: Gil Bellows and Antonio Banderas starred in Miami Rhapsody\n",
            "99: Antonio Banderas and Rebecca Romijn starred in Femme Fatale\n",
            "100: Rebecca Romijn and LL Cool J starred in Rollerball\n",
            "101: LL Cool J and Morgan Freeman starred in Edison\n",
            "102: Morgan Freeman and Kevin Bacon starred in Eastwood Directs: The Untold Story\n"
          ]
        }
      ]
    },
    {
      "cell_type": "code",
      "source": [],
      "metadata": {
        "id": "amCDs6LicM9P"
      },
      "execution_count": null,
      "outputs": []
    }
  ]
}